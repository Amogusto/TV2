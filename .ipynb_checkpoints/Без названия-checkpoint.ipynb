{
 "cells": [
  {
   "cell_type": "markdown",
   "id": "03858e67",
   "metadata": {},
   "source": [
    "# Задание 1.\n",
    "Провести дисперсионный анализ для определения того, есть ли различия среднего роста среди взрослых футболистов, хоккеистов и штангистов. Даны значения роста в трех группах случайно выбранных спортсменов:\n",
    "\n",
    "football_players = [173, 175, 180, 178, 177, 185, 183, 182]\n",
    "\n",
    "hockey_players = [177, 179, 180, 188, 177, 172, 171, 184, 180]\n",
    "\n",
    "lifters = [172, 173, 169, 177, 166, 180, 178, 177, 172, 166, 170]"
   ]
  },
  {
   "cell_type": "code",
   "execution_count": 3,
   "id": "bb17ca79",
   "metadata": {},
   "outputs": [],
   "source": [
    "import numpy as np\n",
    "from scipy import stats"
   ]
  },
  {
   "cell_type": "code",
   "execution_count": 4,
   "id": "9cdfd068",
   "metadata": {},
   "outputs": [],
   "source": [
    "fp = np.array([173, 175, 180, 178, 177, 185, 183, 182], dtype=np.float64)\n",
    "hp = np.array([177, 179, 180, 188, 177, 172, 171, 184, 180], dtype=np.float64)\n",
    "lf = np.array([172, 173, 169, 177, 166, 180, 178, 177, 172, 166, 170], dtype=np.float64)\n",
    "\n",
    "n1 = fp.shape[0]\n",
    "n2 = hp.shape[0]\n",
    "n3 = lf.shape[0]"
   ]
  },
  {
   "cell_type": "code",
   "execution_count": 5,
   "id": "d79bc44c",
   "metadata": {},
   "outputs": [
    {
     "data": {
      "text/plain": [
       "(179.125, 178.66666666666666, 172.72727272727272)"
      ]
     },
     "execution_count": 5,
     "metadata": {},
     "output_type": "execute_result"
    }
   ],
   "source": [
    "fp_mean = fp.mean()\n",
    "hp_mean = hp.mean()\n",
    "lf_mean = lf.mean()\n",
    "\n",
    "fp_mean, hp_mean, lf_mean"
   ]
  },
  {
   "cell_type": "code",
   "execution_count": 6,
   "id": "aa5827f4",
   "metadata": {},
   "outputs": [
    {
     "name": "stdout",
     "output_type": "stream",
     "text": [
      "[173. 175. 180. 178. 177. 185. 183. 182. 177. 179. 180. 188. 177. 172.\n",
      " 171. 184. 180. 172. 173. 169. 177. 166. 180. 178. 177. 172. 166. 170.]\n"
     ]
    }
   ],
   "source": [
    "y = np.concatenate([fp, hp, lf])\n",
    "print(y)"
   ]
  },
  {
   "cell_type": "code",
   "execution_count": 7,
   "id": "c2fe1805",
   "metadata": {},
   "outputs": [
    {
     "data": {
      "text/plain": [
       "176.46428571428572"
      ]
     },
     "execution_count": 7,
     "metadata": {},
     "output_type": "execute_result"
    }
   ],
   "source": [
    "y_mean = y.mean()\n",
    "y_mean"
   ]
  },
  {
   "cell_type": "markdown",
   "id": "de448696",
   "metadata": {},
   "source": [
    "Найдем значения дисперсий"
   ]
  },
  {
   "cell_type": "code",
   "execution_count": 8,
   "id": "3d4f11ad",
   "metadata": {},
   "outputs": [
    {
     "data": {
      "text/plain": [
       "(253.9074675324678, 577.0568181818182)"
      ]
     },
     "execution_count": 8,
     "metadata": {},
     "output_type": "execute_result"
    }
   ],
   "source": [
    "S2_F = n1 * (fp_mean - y_mean) ** 2 + n2 * (hp_mean - y_mean) ** 2 + n3 * (lf_mean - y_mean) ** 2\n",
    "S2_res = ((fp - fp_mean) ** 2).sum() + ((hp - hp_mean) ** 2).sum() + ((lf - lf_mean) ** 2).sum()\n",
    "S2_F, S2_res"
   ]
  },
  {
   "cell_type": "code",
   "execution_count": 9,
   "id": "dc137a02",
   "metadata": {},
   "outputs": [
    {
     "data": {
      "text/plain": [
       "830.964285714286"
      ]
     },
     "execution_count": 9,
     "metadata": {},
     "output_type": "execute_result"
    }
   ],
   "source": [
    "S2_F + S2_res"
   ]
  },
  {
   "cell_type": "code",
   "execution_count": 10,
   "id": "652a1ae8",
   "metadata": {},
   "outputs": [
    {
     "data": {
      "text/plain": [
       "830.9642857142854"
      ]
     },
     "execution_count": 10,
     "metadata": {},
     "output_type": "execute_result"
    }
   ],
   "source": [
    "((y - y_mean) ** 2).sum()"
   ]
  },
  {
   "cell_type": "markdown",
   "id": "a64cd7b9",
   "metadata": {},
   "source": [
    "Значения сходятся"
   ]
  },
  {
   "cell_type": "code",
   "execution_count": 11,
   "id": "bbe59d54",
   "metadata": {},
   "outputs": [
    {
     "data": {
      "text/plain": [
       "(126.9537337662339, 23.08227272727273)"
      ]
     },
     "execution_count": 11,
     "metadata": {},
     "output_type": "execute_result"
    }
   ],
   "source": [
    "k = 3\n",
    "n = n1 + n2 + n3\n",
    "\n",
    "k1 = k - 1\n",
    "k2 = n - k\n",
    "\n",
    "sigma2_F = S2_F / k1\n",
    "sigma2_res = S2_res / k2\n",
    "\n",
    "sigma2_F, sigma2_res"
   ]
  },
  {
   "cell_type": "markdown",
   "id": "186586a7",
   "metadata": {},
   "source": [
    "Значение статистики:"
   ]
  },
  {
   "cell_type": "code",
   "execution_count": 12,
   "id": "0ec50b7e",
   "metadata": {},
   "outputs": [
    {
     "data": {
      "text/plain": [
       "5.500053450812598"
      ]
     },
     "execution_count": 12,
     "metadata": {},
     "output_type": "execute_result"
    }
   ],
   "source": [
    "T = sigma2_F / sigma2_res\n",
    "T"
   ]
  },
  {
   "cell_type": "markdown",
   "id": "b1bfa12f",
   "metadata": {},
   "source": [
    "Зафиксируем уровень значимости 0,05\n",
    ". Для него найдём критическое значение"
   ]
  },
  {
   "cell_type": "code",
   "execution_count": 13,
   "id": "36d4eb5e",
   "metadata": {},
   "outputs": [
    {
     "data": {
      "text/plain": [
       "3.3851899614491687"
      ]
     },
     "execution_count": 13,
     "metadata": {},
     "output_type": "execute_result"
    }
   ],
   "source": [
    "alpha = 0.05\n",
    "\n",
    "F_crit = stats.f.ppf(1 - alpha, k1, k2)\n",
    "F_crit"
   ]
  },
  {
   "cell_type": "markdown",
   "id": "803b090d",
   "metadata": {},
   "source": [
    "тличие среднего роста футболистов, хокеистов и штангистов действительно является статистически значимым"
   ]
  },
  {
   "cell_type": "code",
   "execution_count": null,
   "id": "e4cf1efa",
   "metadata": {},
   "outputs": [],
   "source": []
  }
 ],
 "metadata": {
  "kernelspec": {
   "display_name": "Python 3 (ipykernel)",
   "language": "python",
   "name": "python3"
  },
  "language_info": {
   "codemirror_mode": {
    "name": "ipython",
    "version": 3
   },
   "file_extension": ".py",
   "mimetype": "text/x-python",
   "name": "python",
   "nbconvert_exporter": "python",
   "pygments_lexer": "ipython3",
   "version": "3.9.12"
  }
 },
 "nbformat": 4,
 "nbformat_minor": 5
}
